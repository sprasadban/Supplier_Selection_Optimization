{
 "cells": [
  {
   "cell_type": "code",
   "execution_count": 120,
   "metadata": {},
   "outputs": [],
   "source": [
    "import pandas as pd\n",
    "import pulp as p\n",
    "import pickle"
   ]
  },
  {
   "cell_type": "code",
   "execution_count": 121,
   "metadata": {},
   "outputs": [
    {
     "data": {
      "text/html": [
       "<div>\n",
       "<style scoped>\n",
       "    .dataframe tbody tr th:only-of-type {\n",
       "        vertical-align: middle;\n",
       "    }\n",
       "\n",
       "    .dataframe tbody tr th {\n",
       "        vertical-align: top;\n",
       "    }\n",
       "\n",
       "    .dataframe thead th {\n",
       "        text-align: right;\n",
       "    }\n",
       "</style>\n",
       "<table border=\"1\" class=\"dataframe\">\n",
       "  <thead>\n",
       "    <tr style=\"text-align: right;\">\n",
       "      <th></th>\n",
       "      <th>ItemId</th>\n",
       "      <th>CommodityId</th>\n",
       "      <th>SupplierId</th>\n",
       "      <th>Quantity</th>\n",
       "      <th>Quoted_Price</th>\n",
       "      <th>ExtendedPrice</th>\n",
       "    </tr>\n",
       "  </thead>\n",
       "  <tbody>\n",
       "    <tr>\n",
       "      <th>0</th>\n",
       "      <td>1899326</td>\n",
       "      <td>432118</td>\n",
       "      <td>100</td>\n",
       "      <td>100</td>\n",
       "      <td>85</td>\n",
       "      <td>850</td>\n",
       "    </tr>\n",
       "    <tr>\n",
       "      <th>1</th>\n",
       "      <td>1899326</td>\n",
       "      <td>432118</td>\n",
       "      <td>SUPPLIERRPC06</td>\n",
       "      <td>100</td>\n",
       "      <td>92</td>\n",
       "      <td>920</td>\n",
       "    </tr>\n",
       "    <tr>\n",
       "      <th>2</th>\n",
       "      <td>1899326</td>\n",
       "      <td>432118</td>\n",
       "      <td>SUPPLIERRPC05</td>\n",
       "      <td>100</td>\n",
       "      <td>95</td>\n",
       "      <td>950</td>\n",
       "    </tr>\n",
       "  </tbody>\n",
       "</table>\n",
       "</div>"
      ],
      "text/plain": [
       "    ItemId  CommodityId     SupplierId  Quantity  Quoted_Price  ExtendedPrice\n",
       "0  1899326       432118            100       100            85            850\n",
       "1  1899326       432118  SUPPLIERRPC06       100            92            920\n",
       "2  1899326       432118  SUPPLIERRPC05       100            95            950"
      ]
     },
     "execution_count": 121,
     "metadata": {},
     "output_type": "execute_result"
    }
   ],
   "source": [
    "bidDetails = pd.read_csv('./output/bids_details.csv')\n",
    "bidDetails"
   ]
  },
  {
   "cell_type": "code",
   "execution_count": 122,
   "metadata": {},
   "outputs": [
    {
     "data": {
      "text/html": [
       "<div>\n",
       "<style scoped>\n",
       "    .dataframe tbody tr th:only-of-type {\n",
       "        vertical-align: middle;\n",
       "    }\n",
       "\n",
       "    .dataframe tbody tr th {\n",
       "        vertical-align: top;\n",
       "    }\n",
       "\n",
       "    .dataframe thead th {\n",
       "        text-align: right;\n",
       "    }\n",
       "</style>\n",
       "<table border=\"1\" class=\"dataframe\">\n",
       "  <thead>\n",
       "    <tr style=\"text-align: right;\">\n",
       "      <th></th>\n",
       "      <th>index</th>\n",
       "      <th>ItemId</th>\n",
       "      <th>CommodityId</th>\n",
       "      <th>SupplierId</th>\n",
       "      <th>Quantity</th>\n",
       "      <th>Quoted_Price</th>\n",
       "      <th>ExtendedPrice</th>\n",
       "    </tr>\n",
       "  </thead>\n",
       "  <tbody>\n",
       "    <tr>\n",
       "      <th>0</th>\n",
       "      <td>0</td>\n",
       "      <td>1899326</td>\n",
       "      <td>432118</td>\n",
       "      <td>100</td>\n",
       "      <td>100</td>\n",
       "      <td>85</td>\n",
       "      <td>850</td>\n",
       "    </tr>\n",
       "    <tr>\n",
       "      <th>1</th>\n",
       "      <td>1</td>\n",
       "      <td>1899326</td>\n",
       "      <td>432118</td>\n",
       "      <td>SUPPLIERRPC06</td>\n",
       "      <td>100</td>\n",
       "      <td>92</td>\n",
       "      <td>920</td>\n",
       "    </tr>\n",
       "    <tr>\n",
       "      <th>2</th>\n",
       "      <td>2</td>\n",
       "      <td>1899326</td>\n",
       "      <td>432118</td>\n",
       "      <td>SUPPLIERRPC05</td>\n",
       "      <td>100</td>\n",
       "      <td>95</td>\n",
       "      <td>950</td>\n",
       "    </tr>\n",
       "  </tbody>\n",
       "</table>\n",
       "</div>"
      ],
      "text/plain": [
       "   index   ItemId  CommodityId     SupplierId  Quantity  Quoted_Price  \\\n",
       "0      0  1899326       432118            100       100            85   \n",
       "1      1  1899326       432118  SUPPLIERRPC06       100            92   \n",
       "2      2  1899326       432118  SUPPLIERRPC05       100            95   \n",
       "\n",
       "   ExtendedPrice  \n",
       "0            850  \n",
       "1            920  \n",
       "2            950  "
      ]
     },
     "execution_count": 122,
     "metadata": {},
     "output_type": "execute_result"
    }
   ],
   "source": [
    "bids = bidDetails.query('ItemId == 1899326 and Quoted_Price > 0')\n",
    "bids = bids.reset_index()\n",
    "bids"
   ]
  },
  {
   "cell_type": "code",
   "execution_count": 123,
   "metadata": {},
   "outputs": [
    {
     "name": "stdout",
     "output_type": "stream",
     "text": [
      "85\n",
      "95\n"
     ]
    }
   ],
   "source": [
    "# https://stats.stackexchange.com/questions/281162/scale-a-number-between-a-range\n",
    "minBidPrice = bids['Quoted_Price'].min()\n",
    "print(minBidPrice)\n",
    "maxBidPrice = bids['Quoted_Price'].max()\n",
    "print(maxBidPrice)"
   ]
  },
  {
   "cell_type": "code",
   "execution_count": 124,
   "metadata": {},
   "outputs": [],
   "source": [
    "minRange = 1.0\n",
    "maxRange = 10.0\n",
    "bids['ScaledQuotedPrice'] = round((bids['Quoted_Price'] - minBidPrice)/(maxBidPrice - minBidPrice) * (maxRange - minRange) + minRange, 2)"
   ]
  },
  {
   "cell_type": "code",
   "execution_count": 125,
   "metadata": {},
   "outputs": [
    {
     "data": {
      "text/html": [
       "<style>#sk-container-id-8 {color: black;background-color: white;}#sk-container-id-8 pre{padding: 0;}#sk-container-id-8 div.sk-toggleable {background-color: white;}#sk-container-id-8 label.sk-toggleable__label {cursor: pointer;display: block;width: 100%;margin-bottom: 0;padding: 0.3em;box-sizing: border-box;text-align: center;}#sk-container-id-8 label.sk-toggleable__label-arrow:before {content: \"▸\";float: left;margin-right: 0.25em;color: #696969;}#sk-container-id-8 label.sk-toggleable__label-arrow:hover:before {color: black;}#sk-container-id-8 div.sk-estimator:hover label.sk-toggleable__label-arrow:before {color: black;}#sk-container-id-8 div.sk-toggleable__content {max-height: 0;max-width: 0;overflow: hidden;text-align: left;background-color: #f0f8ff;}#sk-container-id-8 div.sk-toggleable__content pre {margin: 0.2em;color: black;border-radius: 0.25em;background-color: #f0f8ff;}#sk-container-id-8 input.sk-toggleable__control:checked~div.sk-toggleable__content {max-height: 200px;max-width: 100%;overflow: auto;}#sk-container-id-8 input.sk-toggleable__control:checked~label.sk-toggleable__label-arrow:before {content: \"▾\";}#sk-container-id-8 div.sk-estimator input.sk-toggleable__control:checked~label.sk-toggleable__label {background-color: #d4ebff;}#sk-container-id-8 div.sk-label input.sk-toggleable__control:checked~label.sk-toggleable__label {background-color: #d4ebff;}#sk-container-id-8 input.sk-hidden--visually {border: 0;clip: rect(1px 1px 1px 1px);clip: rect(1px, 1px, 1px, 1px);height: 1px;margin: -1px;overflow: hidden;padding: 0;position: absolute;width: 1px;}#sk-container-id-8 div.sk-estimator {font-family: monospace;background-color: #f0f8ff;border: 1px dotted black;border-radius: 0.25em;box-sizing: border-box;margin-bottom: 0.5em;}#sk-container-id-8 div.sk-estimator:hover {background-color: #d4ebff;}#sk-container-id-8 div.sk-parallel-item::after {content: \"\";width: 100%;border-bottom: 1px solid gray;flex-grow: 1;}#sk-container-id-8 div.sk-label:hover label.sk-toggleable__label {background-color: #d4ebff;}#sk-container-id-8 div.sk-serial::before {content: \"\";position: absolute;border-left: 1px solid gray;box-sizing: border-box;top: 0;bottom: 0;left: 50%;z-index: 0;}#sk-container-id-8 div.sk-serial {display: flex;flex-direction: column;align-items: center;background-color: white;padding-right: 0.2em;padding-left: 0.2em;position: relative;}#sk-container-id-8 div.sk-item {position: relative;z-index: 1;}#sk-container-id-8 div.sk-parallel {display: flex;align-items: stretch;justify-content: center;background-color: white;position: relative;}#sk-container-id-8 div.sk-item::before, #sk-container-id-8 div.sk-parallel-item::before {content: \"\";position: absolute;border-left: 1px solid gray;box-sizing: border-box;top: 0;bottom: 0;left: 50%;z-index: -1;}#sk-container-id-8 div.sk-parallel-item {display: flex;flex-direction: column;z-index: 1;position: relative;background-color: white;}#sk-container-id-8 div.sk-parallel-item:first-child::after {align-self: flex-end;width: 50%;}#sk-container-id-8 div.sk-parallel-item:last-child::after {align-self: flex-start;width: 50%;}#sk-container-id-8 div.sk-parallel-item:only-child::after {width: 0;}#sk-container-id-8 div.sk-dashed-wrapped {border: 1px dashed gray;margin: 0 0.4em 0.5em 0.4em;box-sizing: border-box;padding-bottom: 0.4em;background-color: white;}#sk-container-id-8 div.sk-label label {font-family: monospace;font-weight: bold;display: inline-block;line-height: 1.2em;}#sk-container-id-8 div.sk-label-container {text-align: center;}#sk-container-id-8 div.sk-container {/* jupyter's `normalize.less` sets `[hidden] { display: none; }` but bootstrap.min.css set `[hidden] { display: none !important; }` so we also need the `!important` here to be able to override the default hidden behavior on the sphinx rendered scikit-learn.org. See: https://github.com/scikit-learn/scikit-learn/issues/21755 */display: inline-block !important;position: relative;}#sk-container-id-8 div.sk-text-repr-fallback {display: none;}</style><div id=\"sk-container-id-8\" class=\"sk-top-container\"><div class=\"sk-text-repr-fallback\"><pre>DecisionTreeRegressor()</pre><b>In a Jupyter environment, please rerun this cell to show the HTML representation or trust the notebook. <br />On GitHub, the HTML representation is unable to render, please try loading this page with nbviewer.org.</b></div><div class=\"sk-container\" hidden><div class=\"sk-item\"><div class=\"sk-estimator sk-toggleable\"><input class=\"sk-toggleable__control sk-hidden--visually\" id=\"sk-estimator-id-8\" type=\"checkbox\" checked><label for=\"sk-estimator-id-8\" class=\"sk-toggleable__label sk-toggleable__label-arrow\">DecisionTreeRegressor</label><div class=\"sk-toggleable__content\"><pre>DecisionTreeRegressor()</pre></div></div></div></div></div>"
      ],
      "text/plain": [
       "DecisionTreeRegressor()"
      ]
     },
     "execution_count": 125,
     "metadata": {},
     "output_type": "execute_result"
    }
   ],
   "source": [
    "modelFile = open('./selected_ai_ml_model.mdl', 'rb')\n",
    "model = pickle.load(modelFile)\n",
    "modelFile.close()\n",
    "\n",
    "model"
   ]
  },
  {
   "cell_type": "code",
   "execution_count": 126,
   "metadata": {},
   "outputs": [
    {
     "data": {
      "text/plain": [
       "{'100': 10001, 'SUPPLIERRPC06': 10002, 'SUPPLIERRPC05': 10003}"
      ]
     },
     "execution_count": 126,
     "metadata": {},
     "output_type": "execute_result"
    }
   ],
   "source": [
    "supplierMapFile = open('./suppliermap.dict', 'rb')\n",
    "supplierMap = pickle.load(supplierMapFile)\n",
    "supplierMapFile.close()\n",
    "supplierMap"
   ]
  },
  {
   "cell_type": "code",
   "execution_count": 127,
   "metadata": {},
   "outputs": [
    {
     "name": "stdout",
     "output_type": "stream",
     "text": [
      "(100, 432118, 85)\n",
      "Quality = 9.0, Timeliness = 6.0\n",
      "------------------------------------------------------------------\n",
      "(SUPPLIERRPC06, 432118, 92)\n",
      "Quality = 9.0, Timeliness = 6.0\n",
      "------------------------------------------------------------------\n",
      "(SUPPLIERRPC05, 432118, 95)\n",
      "Quality = 9.0, Timeliness = 6.0\n",
      "------------------------------------------------------------------\n"
     ]
    },
    {
     "name": "stderr",
     "output_type": "stream",
     "text": [
      "/Library/Frameworks/Python.framework/Versions/3.10/lib/python3.10/site-packages/sklearn/base.py:450: UserWarning: X does not have valid feature names, but DecisionTreeRegressor was fitted with feature names\n",
      "  warnings.warn(\n",
      "/Library/Frameworks/Python.framework/Versions/3.10/lib/python3.10/site-packages/sklearn/base.py:450: UserWarning: X does not have valid feature names, but DecisionTreeRegressor was fitted with feature names\n",
      "  warnings.warn(\n",
      "/Library/Frameworks/Python.framework/Versions/3.10/lib/python3.10/site-packages/sklearn/base.py:450: UserWarning: X does not have valid feature names, but DecisionTreeRegressor was fitted with feature names\n",
      "  warnings.warn(\n"
     ]
    },
    {
     "data": {
      "text/html": [
       "<div>\n",
       "<style scoped>\n",
       "    .dataframe tbody tr th:only-of-type {\n",
       "        vertical-align: middle;\n",
       "    }\n",
       "\n",
       "    .dataframe tbody tr th {\n",
       "        vertical-align: top;\n",
       "    }\n",
       "\n",
       "    .dataframe thead th {\n",
       "        text-align: right;\n",
       "    }\n",
       "</style>\n",
       "<table border=\"1\" class=\"dataframe\">\n",
       "  <thead>\n",
       "    <tr style=\"text-align: right;\">\n",
       "      <th></th>\n",
       "      <th>index</th>\n",
       "      <th>ItemId</th>\n",
       "      <th>CommodityId</th>\n",
       "      <th>SupplierId</th>\n",
       "      <th>Quantity</th>\n",
       "      <th>Quoted_Price</th>\n",
       "      <th>ExtendedPrice</th>\n",
       "      <th>ScaledQuotedPrice</th>\n",
       "      <th>Quality</th>\n",
       "      <th>Timeliness</th>\n",
       "    </tr>\n",
       "  </thead>\n",
       "  <tbody>\n",
       "    <tr>\n",
       "      <th>0</th>\n",
       "      <td>0</td>\n",
       "      <td>1899326</td>\n",
       "      <td>432118</td>\n",
       "      <td>100</td>\n",
       "      <td>100</td>\n",
       "      <td>85</td>\n",
       "      <td>850</td>\n",
       "      <td>1.0</td>\n",
       "      <td>9.0</td>\n",
       "      <td>6.0</td>\n",
       "    </tr>\n",
       "    <tr>\n",
       "      <th>1</th>\n",
       "      <td>1</td>\n",
       "      <td>1899326</td>\n",
       "      <td>432118</td>\n",
       "      <td>SUPPLIERRPC06</td>\n",
       "      <td>100</td>\n",
       "      <td>92</td>\n",
       "      <td>920</td>\n",
       "      <td>7.3</td>\n",
       "      <td>9.0</td>\n",
       "      <td>6.0</td>\n",
       "    </tr>\n",
       "    <tr>\n",
       "      <th>2</th>\n",
       "      <td>2</td>\n",
       "      <td>1899326</td>\n",
       "      <td>432118</td>\n",
       "      <td>SUPPLIERRPC05</td>\n",
       "      <td>100</td>\n",
       "      <td>95</td>\n",
       "      <td>950</td>\n",
       "      <td>10.0</td>\n",
       "      <td>9.0</td>\n",
       "      <td>6.0</td>\n",
       "    </tr>\n",
       "  </tbody>\n",
       "</table>\n",
       "</div>"
      ],
      "text/plain": [
       "   index   ItemId  CommodityId     SupplierId  Quantity  Quoted_Price  \\\n",
       "0      0  1899326       432118            100       100            85   \n",
       "1      1  1899326       432118  SUPPLIERRPC06       100            92   \n",
       "2      2  1899326       432118  SUPPLIERRPC05       100            95   \n",
       "\n",
       "   ExtendedPrice  ScaledQuotedPrice  Quality  Timeliness  \n",
       "0            850                1.0      9.0         6.0  \n",
       "1            920                7.3      9.0         6.0  \n",
       "2            950               10.0      9.0         6.0  "
      ]
     },
     "execution_count": 127,
     "metadata": {},
     "output_type": "execute_result"
    }
   ],
   "source": [
    "for index, row in bids.iterrows():\n",
    "    commodityId = row['CommodityId']\n",
    "    supplierId = supplierMap[row['SupplierId']]\n",
    "    price = row['Quoted_Price']\n",
    "    print(\"(\" + str(row['SupplierId']) + \", \" + str(commodityId) + \", \" + str(price) + \")\")\n",
    "    \n",
    "    bidData = pd.DataFrame([[supplierId, commodityId, price]])\n",
    "    predict_bid = model.predict(bidData)\n",
    "    \n",
    "    quality = predict_bid[0][0]\n",
    "    timeliness = predict_bid[0][1]\n",
    "    \n",
    "    print(\"Quality = \" + str(quality) + \", Timeliness = \" + str(timeliness))\n",
    "    print(\"------------------------------------------------------------------\")\n",
    "\n",
    "    bids.at[index,'Quality'] = quality\n",
    "    bids.at[index, 'Timeliness'] = timeliness\n",
    "\n",
    "bids"
   ]
  },
  {
   "cell_type": "code",
   "execution_count": 168,
   "metadata": {},
   "outputs": [
    {
     "data": {
      "text/plain": [
       "Supplier_Optimization:\n",
       "MINIMIZE\n",
       "None\n",
       "VARIABLES"
      ]
     },
     "execution_count": 168,
     "metadata": {},
     "output_type": "execute_result"
    }
   ],
   "source": [
    "'''\n",
    " Item selected in UI\n",
    " Qty is bid quantity\n",
    " Price entered in UI\n",
    " Call prediction for a item/price to get supplier characteristics\n",
    "'''\n",
    "problem = p.LpProblem(name='Supplier_Optimization', sense=p.LpMinimize)\n",
    "problem"
   ]
  },
  {
   "cell_type": "code",
   "execution_count": 169,
   "metadata": {},
   "outputs": [
    {
     "data": {
      "text/plain": [
       "{'100': _100, 'SUPPLIERRPC06': _SUPPLIERRPC06, 'SUPPLIERRPC05': _SUPPLIERRPC05}"
      ]
     },
     "execution_count": 169,
     "metadata": {},
     "output_type": "execute_result"
    }
   ],
   "source": [
    "# Decision Variables\n",
    "suppliers = p.LpVariable.dicts(\"\", bids['SupplierId'], cat='Integer', lowBound=0, upBound=100)\n",
    "suppliers"
   ]
  },
  {
   "cell_type": "code",
   "execution_count": 170,
   "metadata": {},
   "outputs": [
    {
     "data": {
      "text/plain": [
       "1.0*_100 + 10.0*_SUPPLIERRPC05 + 7.3*_SUPPLIERRPC06 + 0.0"
      ]
     },
     "execution_count": 170,
     "metadata": {},
     "output_type": "execute_result"
    }
   ],
   "source": [
    "# Optimization function\n",
    "priceProblem = p.lpSum(suppliers[bids['SupplierId'][i]] * bids['ScaledQuotedPrice'][i] for i in range(bids['SupplierId'].count()))\n",
    "priceProblem"
   ]
  },
  {
   "cell_type": "code",
   "execution_count": 171,
   "metadata": {},
   "outputs": [
    {
     "name": "stdout",
     "output_type": "stream",
     "text": [
      "9.0*_100 + 9.0*_SUPPLIERRPC05 + 9.0*_SUPPLIERRPC06\n",
      "6.0*_100 + 6.0*_SUPPLIERRPC05 + 6.0*_SUPPLIERRPC06\n"
     ]
    }
   ],
   "source": [
    "#Call prediction for each supplier to get quality and timeliness\n",
    "qualityProblem = p.lpSum(suppliers[bids['SupplierId'][i]] * bids['Quality'][i] for i in range(bids['SupplierId'].count()))\n",
    "print(qualityProblem)\n",
    "timelinessProblem =  p.lpSum(suppliers[bids['SupplierId'][i]] * bids['Timeliness'][i] for i in range(bids['SupplierId'].count()))\n",
    "print(timelinessProblem)"
   ]
  },
  {
   "cell_type": "code",
   "execution_count": 172,
   "metadata": {},
   "outputs": [
    {
     "data": {
      "text/plain": [
       "Supplier_Optimization:\n",
       "MINIMIZE\n",
       "-2.0*_100 + 7.0*_SUPPLIERRPC05 + 4.3*_SUPPLIERRPC06 + 0.0\n",
       "VARIABLES\n",
       "0 <= _100 <= 100 Integer\n",
       "0 <= _SUPPLIERRPC05 <= 100 Integer\n",
       "0 <= _SUPPLIERRPC06 <= 100 Integer"
      ]
     },
     "execution_count": 172,
     "metadata": {},
     "output_type": "execute_result"
    }
   ],
   "source": [
    "problem += (1 * priceProblem) - (1 * qualityProblem) + (1 * timelinessProblem)\n",
    "problem"
   ]
  },
  {
   "cell_type": "code",
   "execution_count": 173,
   "metadata": {},
   "outputs": [
    {
     "data": {
      "text/plain": [
       "Supplier_Optimization:\n",
       "MINIMIZE\n",
       "-2.0*_100 + 7.0*_SUPPLIERRPC05 + 4.3*_SUPPLIERRPC06 + 0.0\n",
       "SUBJECT TO\n",
       "_C1: _100 + _SUPPLIERRPC05 + _SUPPLIERRPC06 = 100\n",
       "\n",
       "VARIABLES\n",
       "0 <= _100 <= 100 Integer\n",
       "0 <= _SUPPLIERRPC05 <= 100 Integer\n",
       "0 <= _SUPPLIERRPC06 <= 100 Integer"
      ]
     },
     "execution_count": 173,
     "metadata": {},
     "output_type": "execute_result"
    }
   ],
   "source": [
    "# Constraints\n",
    "# Required Quantity\n",
    "problem += p.lpSum(suppliers[bids['SupplierId'][i]] for i in range(bids['SupplierId'].count())) == bids['Quantity'].unique()\n",
    "\n",
    "problem"
   ]
  },
  {
   "cell_type": "code",
   "execution_count": 174,
   "metadata": {},
   "outputs": [
    {
     "name": "stdout",
     "output_type": "stream",
     "text": [
      "Welcome to the CBC MILP Solver \n",
      "Version: 2.10.3 \n",
      "Build Date: Dec 15 2019 \n",
      "\n",
      "command line - /Library/Frameworks/Python.framework/Versions/3.10/lib/python3.10/site-packages/pulp/apis/../solverdir/cbc/osx/64/cbc /var/folders/t4/204xh5g57vv3c7mjndmh4y7r0000gn/T/ef492c3aa0324d6388913b636eae6e81-pulp.mps timeMode elapsed branch printingOptions all solution /var/folders/t4/204xh5g57vv3c7mjndmh4y7r0000gn/T/ef492c3aa0324d6388913b636eae6e81-pulp.sol (default strategy 1)\n",
      "At line 2 NAME          MODEL\n",
      "At line 3 ROWS\n",
      "At line 6 COLUMNS\n",
      "At line 19 RHS\n",
      "At line 21 BOUNDS\n",
      "At line 25 ENDATA\n",
      "Problem MODEL has 1 rows, 3 columns and 3 elements\n",
      "Coin0008I MODEL read with 0 errors\n",
      "Option for timeMode changed from cpu to elapsed\n",
      "Continuous objective value is -200 - 0.00 seconds\n",
      "Cgl0004I processed model has 0 rows, 0 columns (0 integer (0 of which binary)) and 0 elements\n",
      "Cbc3007W No integer variables - nothing to do\n",
      "Cuts at root node changed objective from -200 to -1.79769e+308\n",
      "Probing was tried 0 times and created 0 cuts of which 0 were active after adding rounds of cuts (0.000 seconds)\n",
      "Gomory was tried 0 times and created 0 cuts of which 0 were active after adding rounds of cuts (0.000 seconds)\n",
      "Knapsack was tried 0 times and created 0 cuts of which 0 were active after adding rounds of cuts (0.000 seconds)\n",
      "Clique was tried 0 times and created 0 cuts of which 0 were active after adding rounds of cuts (0.000 seconds)\n",
      "MixedIntegerRounding2 was tried 0 times and created 0 cuts of which 0 were active after adding rounds of cuts (0.000 seconds)\n",
      "FlowCover was tried 0 times and created 0 cuts of which 0 were active after adding rounds of cuts (0.000 seconds)\n",
      "TwoMirCuts was tried 0 times and created 0 cuts of which 0 were active after adding rounds of cuts (0.000 seconds)\n",
      "ZeroHalf was tried 0 times and created 0 cuts of which 0 were active after adding rounds of cuts (0.000 seconds)\n",
      "\n",
      "Result - Optimal solution found\n",
      "\n",
      "Objective value:                -200.00000000\n",
      "Enumerated nodes:               0\n",
      "Total iterations:               0\n",
      "Time (CPU seconds):             0.00\n",
      "Time (Wallclock seconds):       0.01\n",
      "\n",
      "Option for printingOptions changed from normal to all\n",
      "Total time (CPU seconds):       0.00   (Wallclock seconds):       0.02\n",
      "\n",
      "Status: Optimal\n",
      "_100 = 100.0\n",
      "_SUPPLIERRPC05 = 0.0\n",
      "_SUPPLIERRPC06 = 0.0\n",
      "Quoted Price :  -200.0\n",
      "Optimal value for supplier's '['100 = 100.0', 'SUPPLIERRPC05 = 0.0', 'SUPPLIERRPC06 = 0.0']' and the optimized objective function value is -200.0\n"
     ]
    }
   ],
   "source": [
    "# Solve problem\n",
    "problem.solve()\n",
    "\n",
    "# Print status\n",
    "status = p.LpStatus[problem.status]\n",
    "print(\"Status:\", status)\n",
    "\n",
    "# Print optimal values of decision variables\n",
    "\n",
    "supplier = []\n",
    "selectedSupplier = \"\"\n",
    "for v in problem.variables():\n",
    "    print(v.name, \"=\", v.varValue)\n",
    "    supplier.append(v.name.replace(\"_\", \"\") + \" = \" + str(v.varValue))\n",
    "    if v.varValue is not None and v.varValue > 0:\n",
    "        selectedSupplier = v.name\n",
    "quotedPrice = p.value(problem.objective)\n",
    "print(\"Quoted Price : \", quotedPrice)\n",
    "\n",
    "supplier = \"Optimal value for supplier's \" + \"'\" + str(supplier) + \"' and the optimized objective function value is \" + str(quotedPrice)\n",
    "print(supplier)"
   ]
  },
  {
   "cell_type": "code",
   "execution_count": null,
   "metadata": {},
   "outputs": [],
   "source": []
  }
 ],
 "metadata": {
  "kernelspec": {
   "display_name": "Python 3.10.7 64-bit",
   "language": "python",
   "name": "python3"
  },
  "language_info": {
   "codemirror_mode": {
    "name": "ipython",
    "version": 3
   },
   "file_extension": ".py",
   "mimetype": "text/x-python",
   "name": "python",
   "nbconvert_exporter": "python",
   "pygments_lexer": "ipython3",
   "version": "3.10.7"
  },
  "orig_nbformat": 4,
  "vscode": {
   "interpreter": {
    "hash": "aee8b7b246df8f9039afb4144a1f6fd8d2ca17a180786b69acc140d282b71a49"
   }
  }
 },
 "nbformat": 4,
 "nbformat_minor": 2
}
